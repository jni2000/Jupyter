{
 "cells": [
  {
   "cell_type": "code",
   "execution_count": 21,
   "metadata": {},
   "outputs": [
    {
     "name": "stdout",
     "output_type": "stream",
     "text": [
      "[[1, -1], [1, 2]]\n"
     ]
    }
   ],
   "source": [
    "import math\n",
    "import numpy as np\n",
    "\n",
    "totalSteakHouses = 3\n",
    "allLocations = [[1, 2], [3, 4], [1, -1]]\n",
    "numSteakhouses = 2\n",
    "customerLocation = [0,0]\n",
    "\n",
    "def calculateDistance(start, end):\n",
    "    distance = -1\n",
    "    if start is not None and end is not None:\n",
    "        if len(start)>=2 and len(end)>=2:\n",
    "            distance = math.sqrt(math.pow(start[0]-end[0],2)+math.pow(start[1]-end[1],2))\n",
    "    return distance\n",
    "\n",
    "def findNearestSteakhouses(total, locations, found):\n",
    "    steakhouses = []\n",
    "    foundOnes = []\n",
    "    if total > 0 and found >0 and len(locations)>0:\n",
    "        for i in range(min(len(locations),total)):\n",
    "            steakhouses.append([calculateDistance(customerLocation,locations[i]),locations[i][0], locations[i][1]])\n",
    "        steakhouses = sorted(steakhouses, key=lambda steakhouses_entry: steakhouses_entry[0])\n",
    "        for i in range(min(len(locations),total,found)):\n",
    "            foundOnes.append([steakhouses[i][1],steakhouses[i][2]])\n",
    "    return foundOnes\n",
    "\n",
    "if __name__ == \"__main__\":\n",
    "    print(findNearestSteakhouses(totalSteakHouses, allLocations, numSteakhouses))\n",
    "    "
   ]
  },
  {
   "cell_type": "code",
   "execution_count": null,
   "metadata": {},
   "outputs": [],
   "source": []
  }
 ],
 "metadata": {
  "kernelspec": {
   "display_name": "Python 3",
   "language": "python",
   "name": "python3"
  },
  "language_info": {
   "codemirror_mode": {
    "name": "ipython",
    "version": 3
   },
   "file_extension": ".py",
   "mimetype": "text/x-python",
   "name": "python",
   "nbconvert_exporter": "python",
   "pygments_lexer": "ipython3",
   "version": "3.7.5"
  }
 },
 "nbformat": 4,
 "nbformat_minor": 2
}
