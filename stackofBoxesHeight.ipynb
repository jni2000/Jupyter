{
 "cells": [
  {
   "cell_type": "code",
   "execution_count": 29,
   "metadata": {},
   "outputs": [
    {
     "name": "stdout",
     "output_type": "stream",
     "text": [
      "The maximum possible height of stack is 16\n"
     ]
    }
   ],
   "source": [
    "\"\"\"\n",
    "calculate the overall height of a stack of boxes with the upper one is strictly smaller than the lower one\n",
    "\n",
    "no box rotate allowed\n",
    "\"\"\"\n",
    "class box:\n",
    "    def __init__(self, width, height, depth):\n",
    "        self.width = width\n",
    "        self.height = height\n",
    "        self.depth = depth\n",
    "    def largerThan(self, b):\n",
    "        if b is None:\n",
    "            return True\n",
    "        else:\n",
    "            print(self.width,self.height,self.depth)\n",
    "            print(b.width,b.height,b.depth)\n",
    "            \n",
    "            return (self.width > b.width and self.height > b.height and self.depth > b.depth)\n",
    "    \n",
    "stack=[]\n",
    "box_measures = [\n",
    "    [1,2,3],\n",
    "    [4,5,6],\n",
    "    [2,1,7],\n",
    "    [5,8,9]\n",
    "]\n",
    "\n",
    "def stackon(box_measures, n, stack):\n",
    "    if n == len(box_measures):\n",
    "        stackheight=0\n",
    "        for i in range(len(stack)):\n",
    "            stackheight += stack[i].height\n",
    "        print(stackheight)\n",
    "        return stackheight\n",
    "    b = box(box_measures[n][0],box_measures[n][1],box_measures[n][2])\n",
    "    if n == 0:\n",
    "        stack.append(b)\n",
    "    else:\n",
    "        if stack[len(stack)-1].largerThan(b):\n",
    "            stack.append(b)\n",
    "    return(stackon(box_measures, n+1, stack))\n",
    "        \n",
    "box_measures = sorted(box_measures, reverse = True)\n",
    "height= stackon(box_measures, 0, stack)\n",
    "print(height)"
   ]
  },
  {
   "cell_type": "code",
   "execution_count": null,
   "metadata": {},
   "outputs": [],
   "source": []
  }
 ],
 "metadata": {
  "kernelspec": {
   "display_name": "Python 3",
   "language": "python",
   "name": "python3"
  },
  "language_info": {
   "codemirror_mode": {
    "name": "ipython",
    "version": 3
   },
   "file_extension": ".py",
   "mimetype": "text/x-python",
   "name": "python",
   "nbconvert_exporter": "python",
   "pygments_lexer": "ipython3",
   "version": "3.7.5"
  }
 },
 "nbformat": 4,
 "nbformat_minor": 2
}
