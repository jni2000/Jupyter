{
 "cells": [
  {
   "cell_type": "code",
   "execution_count": null,
   "metadata": {},
   "outputs": [],
   "source": [
    "import collections \n",
    "  \n",
    "# initializing deque \n",
    "dqueueDog = collections.deque(['D1','D2','D3','D4','D5'])\n",
    "dqueueCat = collections.deque(['C1','C2','C3','C4','C5'])\n",
    "dqueueAny = collections.deque(['C1','D1','D2','C2','C3','D3','C4','D4','D5','C5'])\n",
    "\n",
    "def deQueue(what):\n",
    "    adopted = ''\n",
    "    if what == 'D':\n",
    "        adopted = dqueueDog.pop()\n",
    "    elif what == 'C':\n",
    "        adopted = dqueueCat.pop()\n",
    "    else:\n",
    "        adopted = dqueueAny.pop()\n",
    "    +\n"
   ]
  }
 ],
 "metadata": {
  "kernelspec": {
   "display_name": "Python 3",
   "language": "python",
   "name": "python3"
  },
  "language_info": {
   "codemirror_mode": {
    "name": "ipython",
    "version": 3
   },
   "file_extension": ".py",
   "mimetype": "text/x-python",
   "name": "python",
   "nbconvert_exporter": "python",
   "pygments_lexer": "ipython3",
   "version": "3.7.5"
  }
 },
 "nbformat": 4,
 "nbformat_minor": 2
}
