{
 "cells": [
  {
   "cell_type": "code",
   "execution_count": 3,
   "metadata": {},
   "outputs": [
    {
     "name": "stdout",
     "output_type": "stream",
     "text": [
      "54\n",
      "224\n",
      "58\n"
     ]
    }
   ],
   "source": [
    "\"\"\"\n",
    "Given n ropes of different lengths, you need to connect these ropes into one rope. \n",
    "You can connect only 2 ropes at a time. The cost required to connect 2 ropes is \n",
    "equal to sum of their lengths. The length of this connected rope is also equal to \n",
    "the sum of their lengths. This process is repeated until n ropes are connected into \n",
    "a single rope. Find the min possible cost required to connect all ropes.\n",
    "\n",
    "Input: ropes = [8, 4, 6, 12]\n",
    "Output: 58\n",
    "Explanation: The optimal way to connect ropes is as follows\n",
    "1. Connect the ropes of length 4 and 6 (cost is 10). Ropes after connecting: [8, 10, 12]\n",
    "2. Connect the ropes of length 8 and 10 (cost is 18). Ropes after connecting: [18, 12]\n",
    "3. Connect the ropes of length 18 and 12 (cost is 30).\n",
    "Total cost to connect the ropes is 10 + 18 + 30 = 58\n",
    "\n",
    "Input: ropes = [20, 4, 8, 2]\n",
    "Output: 54\n",
    "\n",
    "Input: ropes = [1, 2, 5, 10, 35, 89]\n",
    "Output: 224\n",
    "\n",
    "\"\"\"\n",
    "from heapq import heappop, heappush, heapify\n",
    "\n",
    "def minCost(ropes):\n",
    "  if not ropes: return 0\n",
    "  if len(ropes) == 1: return ropes[0]\n",
    "  heapify(ropes)\n",
    "  cost = 0\n",
    "  while len(ropes) > 1:\n",
    "    a, b = heappop(ropes), heappop(ropes)\n",
    "    cost += a+b\n",
    "    if ropes:\n",
    "      heappush(ropes, a+b)\n",
    "  return cost\n",
    "\n",
    "ropes1 = [20, 4, 8, 2]\n",
    "ropes2 = [1, 2, 5, 10, 35, 89]\n",
    "ropes3 = [8, 4, 6, 12]\n",
    "print(minCost(ropes1))\n",
    "print(minCost(ropes2))\n",
    "print(minCost(ropes3))\n"
   ]
  },
  {
   "cell_type": "code",
   "execution_count": null,
   "metadata": {},
   "outputs": [],
   "source": []
  }
 ],
 "metadata": {
  "kernelspec": {
   "display_name": "Python 3",
   "language": "python",
   "name": "python3"
  },
  "language_info": {
   "codemirror_mode": {
    "name": "ipython",
    "version": 3
   },
   "file_extension": ".py",
   "mimetype": "text/x-python",
   "name": "python",
   "nbconvert_exporter": "python",
   "pygments_lexer": "ipython3",
   "version": "3.7.5"
  }
 },
 "nbformat": 4,
 "nbformat_minor": 2
}
