{
 "cells": [
  {
   "cell_type": "code",
   "execution_count": 7,
   "metadata": {},
   "outputs": [
    {
     "ename": "TypeError",
     "evalue": "'module' object is not callable",
     "output_type": "error",
     "traceback": [
      "\u001b[1;31m---------------------------------------------------------------------------\u001b[0m",
      "\u001b[1;31mTypeError\u001b[0m                                 Traceback (most recent call last)",
      "\u001b[1;32m<ipython-input-7-8217e67806a1>\u001b[0m in \u001b[0;36m<module>\u001b[1;34m\u001b[0m\n\u001b[0;32m      1\u001b[0m \u001b[1;32mimport\u001b[0m \u001b[0mintervals\u001b[0m\u001b[1;33m,\u001b[0m \u001b[0minf\u001b[0m\u001b[1;33m\u001b[0m\u001b[1;33m\u001b[0m\u001b[0m\n\u001b[1;32m----> 2\u001b[1;33m \u001b[0mk\u001b[0m \u001b[1;33m=\u001b[0m \u001b[0mintervals\u001b[0m\u001b[1;33m(\u001b[0m\u001b[1;33m[\u001b[0m\u001b[1;36m0\u001b[0m\u001b[1;33m,\u001b[0m \u001b[1;36m1\u001b[0m\u001b[1;33m]\u001b[0m\u001b[1;33m,\u001b[0m \u001b[1;33m[\u001b[0m\u001b[1;36m2\u001b[0m\u001b[1;33m,\u001b[0m \u001b[1;36m3\u001b[0m\u001b[1;33m]\u001b[0m\u001b[1;33m,\u001b[0m \u001b[1;33m[\u001b[0m\u001b[1;36m10\u001b[0m\u001b[1;33m,\u001b[0m \u001b[1;36m15\u001b[0m\u001b[1;33m]\u001b[0m\u001b[1;33m)\u001b[0m\u001b[1;33m\u001b[0m\u001b[1;33m\u001b[0m\u001b[0m\n\u001b[0m",
      "\u001b[1;31mTypeError\u001b[0m: 'module' object is not callable"
     ]
    }
   ],
   "source": [
    "/*\n",
    "Check if any two intervals overlap among a given set of intervals\n",
    "An interval is represented as a combination of start time and end time. Given a set of intervals, check if any two intervals overlap.\n",
    "Examples:\n",
    "\n",
    "Input:  arr[] = {{1, 3}, {5, 7}, {2, 4}, {6, 8}}\n",
    "Output: true\n",
    "The intervals {1, 3} and {2, 4} overlap\n",
    "\n",
    "\n",
    "Input:  arr[] = {{1, 3}, {7, 9}, {4, 6}, {10, 13}}\n",
    "Output: false\n",
    "No pair of intervals overlap. \n",
    "\n",
    "Expected time complexity is O(nLogn) where n is number of intervals.\n",
    "\n",
    "Method 1\n",
    "A better solution is to Use Sorting. Following is complete algorithm.\n",
    "1) Sort all intervals in increasing order of start time. This step takes O(nLogn) time.\n",
    "2) In the sorted array, if start time of an interval is less than end of previous interval, then there is an overlap. This step takes O(n) time.\n",
    "\n",
    "So overall time complexity of the algorithm is O(nLogn) + O(n) which is O(nLogn).\n",
    "\n",
    "*/\n",
    "\n",
    "// A C++ program to check if any two intervals overlap \n",
    "#include <algorithm> \n",
    "#include <iostream> \n",
    "using namespace std; \n",
    "  \n",
    "// An interval has start time and end time \n",
    "struct Interval { \n",
    "    int start; \n",
    "    int end; \n",
    "}; \n",
    "  \n",
    "// Compares two intervals according to their staring time. \n",
    "// This is needed for sorting the intervals using library \n",
    "// function std::sort(). See http:// goo.gl/iGspV \n",
    "bool compareInterval(Interval i1, Interval i2) \n",
    "{ \n",
    "    return (i1.start < i2.start) ? true : false; \n",
    "} \n",
    "  \n",
    "// Function to check if any two intervals overlap \n",
    "bool isOverlap(Interval arr[], int n) \n",
    "{ \n",
    "    // Sort intervals in increasing order of start time \n",
    "    sort(arr, arr + n , compareInterval); \n",
    "  \n",
    "    // In the sorted array, if start time of an interval \n",
    "    // is less than end of previous interval, then there \n",
    "    // is an overlap \n",
    "    for (int i = 1; i < n; i++) \n",
    "        if (arr[i - 1].end > arr[i].start) \n",
    "            return true; \n",
    "  \n",
    "    // If we reach here, then no overlap \n",
    "    return false; \n",
    "} \n",
    "  \n",
    "// Driver program \n",
    "int main() \n",
    "{ \n",
    "    Interval arr1[] = { { 1, 3 }, { 7, 9 }, { 4, 6 }, { 10, 13 } }; \n",
    "    int n1 = sizeof(arr1) / sizeof(arr1[0]); \n",
    "    isOverlap(arr1, n1) ? cout << \"Yes\\n\" : cout << \"No\\n\"; \n",
    "  \n",
    "    Interval arr2[] = { { 6, 8 }, { 1, 3 }, { 2, 4 }, { 4, 7 } }; \n",
    "    int n2 = sizeof(arr2) / sizeof(arr2[0]); \n",
    "    isOverlap(arr2, n2) ? cout << \"Yes\\n\" : cout << \"No\\n\"; \n",
    "  \n",
    "    return 0; \n",
    "}"
   ]
  },
  {
   "cell_type": "code",
   "execution_count": null,
   "metadata": {},
   "outputs": [],
   "source": []
  }
 ],
 "metadata": {
  "kernelspec": {
   "display_name": "Python 3",
   "language": "python",
   "name": "python3"
  },
  "language_info": {
   "codemirror_mode": {
    "name": "ipython",
    "version": 3
   },
   "file_extension": ".py",
   "mimetype": "text/x-python",
   "name": "python",
   "nbconvert_exporter": "python",
   "pygments_lexer": "ipython3",
   "version": "3.7.5"
  }
 },
 "nbformat": 4,
 "nbformat_minor": 2
}
