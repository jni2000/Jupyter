{
 "cells": [
  {
   "cell_type": "code",
   "execution_count": 14,
   "metadata": {},
   "outputs": [
    {
     "name": "stdout",
     "output_type": "stream",
     "text": [
      "['SQ', 'Z', 'PYPL', 'TCEHY', 'SI', 'PINS', 'ICE', 'SE', 'MELI', 'SHOP', 'ADYEN', '9923', '6060', 'BABA', 'TWLO', '3690', 'SNAP', 'AMZN', 'DOCU', 'OPEN', 'WDAY', 'AAPL', '4689', 'FB', 'INTU', 'SPLK', 'JD', 'TCS LI', 'TDOC', '', 'SCHW', 'TREE UW', '4477', 'BEKE', 'GWRE', 'TSM', '1833', 'PDD', 'NVDA', 'HDB', 'DSY', 'LSPD', 'VRSK', 'BILL', 'LC', 'DKNG', 'MKTX', 'KSPI']\n"
     ]
    }
   ],
   "source": [
    "import csv\n",
    "with open('ark/data/ARKF/2021-02-18.csv', newline='') as csvfile:\n",
    "    csv_reader = csv.reader(csvfile, delimiter=',')\n",
    "    line_count = 0\n",
    "    for row in csv_reader:\n",
    "        if line_count == 0:\n",
    "            date = []\n",
    "            ticker = []\n",
    "            shares = []\n",
    "            value = []\n",
    "            weight = []\n",
    "            fund = 'ARKF'\n",
    "        elif row[1] == fund:\n",
    "            date.append(row[0])\n",
    "            ticker.append(row[3])\n",
    "            shares.append(row[5])\n",
    "            value.append(row[6])\n",
    "            weight.append(row[7])\n",
    "        line_count += 1\n",
    "    print(ticker)\n",
    "        "
   ]
  },
  {
   "cell_type": "code",
   "execution_count": null,
   "metadata": {},
   "outputs": [],
   "source": []
  }
 ],
 "metadata": {
  "kernelspec": {
   "display_name": "Python 3",
   "language": "python",
   "name": "python3"
  },
  "language_info": {
   "codemirror_mode": {
    "name": "ipython",
    "version": 3
   },
   "file_extension": ".py",
   "mimetype": "text/x-python",
   "name": "python",
   "nbconvert_exporter": "python",
   "pygments_lexer": "ipython3",
   "version": "3.7.5"
  }
 },
 "nbformat": 4,
 "nbformat_minor": 2
}
