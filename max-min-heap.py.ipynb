{
 "cells": [
  {
   "cell_type": "code",
   "execution_count": 15,
   "metadata": {},
   "outputs": [
    {
     "name": "stdout",
     "output_type": "stream",
     "text": [
      "[0, 1, 2, 3, 4, 5, 6, 8, 9, 10]\n",
      "[11, 12, 13, 14, 15, 16, 17, 18, 19]\n",
      "10\n"
     ]
    }
   ],
   "source": [
    "\"\"\"\n",
    "track and find median, split the numbers in to smaller half -- put in max_heap and large half -- put in min-heap\n",
    "\n",
    "if len(max_heap) > len(min_heap):\n",
    "    return heapq._heappop_max(max_heap)\n",
    "if len(max_heap) < len(min_heap):\n",
    "    return heapq._heappop_(min_heap)\n",
    "else:\n",
    "    return (heapq._heappop_max(max_heap)+heapq._heappop_(min_heap))/2\n",
    "\"\"\"\n",
    "import heapq\n",
    "max_heap = [0,1,2,3,4,5,6,7,8,9]    \n",
    "min_heap = [10,11,12,13,14,15,16,17,18,19]    \n",
    "numbers = [0,10,1,11,12,2,4,3,13,5,14,15,6,19,18,9,8,17,7, 16]\n",
    "\n",
    "numbers = sorted(numbers)\n",
    "lens = (int)((len(numbers)-1)/2)+1\n",
    "smalls = numbers[:lens]\n",
    "larges = numbers[lens:]\n",
    "print(smalls)\n",
    "print(larges)\n",
    "\n",
    "heapq.heapify(larges)             # for a min heap\n",
    "heapq._heapify_max(smalls)        # for a maxheap!!\n",
    "\n",
    "if len(larges) > len(smalls):\n",
    "    print(heapq.heappop(larges))      # pop from minheap\n",
    "elif len(larges) < len(smalls):\n",
    "    print(heapq._heappop_max(smalls)) # pop from maxheap\n",
    "else:\n",
    "    print((heapq.heappop(larges)+heapq._heappop_max(smalls))/2)\n",
    "    "
   ]
  },
  {
   "cell_type": "code",
   "execution_count": null,
   "metadata": {},
   "outputs": [],
   "source": []
  }
 ],
 "metadata": {
  "kernelspec": {
   "display_name": "Python 3",
   "language": "python",
   "name": "python3"
  },
  "language_info": {
   "codemirror_mode": {
    "name": "ipython",
    "version": 3
   },
   "file_extension": ".py",
   "mimetype": "text/x-python",
   "name": "python",
   "nbconvert_exporter": "python",
   "pygments_lexer": "ipython3",
   "version": "3.7.5"
  }
 },
 "nbformat": 4,
 "nbformat_minor": 2
}
