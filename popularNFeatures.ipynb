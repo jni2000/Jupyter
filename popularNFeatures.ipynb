{
 "cells": [
  {
   "cell_type": "code",
   "execution_count": 17,
   "metadata": {},
   "outputs": [
    {
     "name": "stdout",
     "output_type": "stream",
     "text": [
      "{}\n"
     ]
    },
    {
     "data": {
      "text/plain": [
       "['waterproof', 'battery']"
      ]
     },
     "execution_count": 17,
     "metadata": {},
     "output_type": "execute_result"
    }
   ],
   "source": [
    "def popularNFeatures(numFeatures, topFeatures, possibleFeatures, \n",
    "                     numFeatureRequests, featureRequests):\n",
    "    # WRITE YOUR CODE HERE\n",
    "    featureHash = {}\n",
    "    # featureHash = dict.fromkeys(possibleFeatures)\n",
    "    for possibleFeature in possibleFeatures:\n",
    "        featureHash[possibleFeature.casefold()] = 0\n",
    "    for featureRequest in featureRequests:\n",
    "        featureRequest = featureRequest.casefold()\n",
    "        words = featureRequest.split(\" \")\n",
    "        words = list(dict.fromkeys(words))\n",
    "        for word in words:\n",
    "            if word in possibleFeatures:\n",
    "                featureHash[word] +=1\n",
    "    featureHashSorted = sorted(featureHash.items(), key=lambda featureHash: featureHash[1], reverse=True)\n",
    "    toplist = list(featureHashSorted[:min(topFeatures, len(featureHashSorted))])\n",
    "    # print(toplist)\n",
    "    return [featureHashSorted[i][0] for i in range(len(toplist))]\n",
    "\n",
    "num = 6\n",
    "top =2\n",
    "possible = [\"storage\",\"battery\", \"hover\", \"alexa\", \"waterproof\", \"solar\"]\n",
    "requests = 7\n",
    "frequests = [\"more storage\", \"battery for 2 years\", \"like the waterproof feature\",\"Waterproof and increased battery life\", \"Waterproof please waterproof\", \"wolf hover on my desk\", \"cool to be solar powered\"]\n",
    "popularNFeatures(num, top, possible, requests, frequests)\n"
   ]
  },
  {
   "cell_type": "code",
   "execution_count": null,
   "metadata": {},
   "outputs": [],
   "source": []
  },
  {
   "cell_type": "code",
   "execution_count": null,
   "metadata": {},
   "outputs": [],
   "source": []
  }
 ],
 "metadata": {
  "kernelspec": {
   "display_name": "Python 3",
   "language": "python",
   "name": "python3"
  },
  "language_info": {
   "codemirror_mode": {
    "name": "ipython",
    "version": 3
   },
   "file_extension": ".py",
   "mimetype": "text/x-python",
   "name": "python",
   "nbconvert_exporter": "python",
   "pygments_lexer": "ipython3",
   "version": "3.7.5"
  }
 },
 "nbformat": 4,
 "nbformat_minor": 2
}
