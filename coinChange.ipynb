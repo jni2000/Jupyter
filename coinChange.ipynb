{
 "cells": [
  {
   "cell_type": "code",
   "execution_count": 8,
   "metadata": {},
   "outputs": [
    {
     "name": "stdout",
     "output_type": "stream",
     "text": [
      "242\n"
     ]
    }
   ],
   "source": [
    "# Recursive Python3 program for \n",
    "# coin change problem. \n",
    "  \n",
    "# Returns the count of ways we can sum \n",
    "# S[0...m-1] coins to get sum n \n",
    "def count(S, m, n ): \n",
    "  \n",
    "    # If n is 0 then there is 1 \n",
    "    # solution (do not include any coin) \n",
    "    if (n == 0): \n",
    "        return 1\n",
    "  \n",
    "    # If n is less than 0 then no \n",
    "    # solution exists \n",
    "    if (n < 0): \n",
    "        return 0; \n",
    "  \n",
    "    # If there are no coins and n \n",
    "    # is greater than 0, then no \n",
    "    # solution exist \n",
    "    if (m <=0 and n >= 1): \n",
    "        return 0\n",
    "  \n",
    "    # count is sum of solutions (i)  \n",
    "    # including S[m-1] (ii) excluding S[m-1] \n",
    "    return count( S, m - 1, n ) + count( S, m, n-S[m-1] ); \n",
    "  \n",
    "# Driver program to test above function \n",
    "arr = [1, 5, 10, 25] \n",
    "m = len(arr) \n",
    "print(count(arr, m, 100)) \n",
    "  "
   ]
  },
  {
   "cell_type": "code",
   "execution_count": null,
   "metadata": {},
   "outputs": [],
   "source": []
  }
 ],
 "metadata": {
  "kernelspec": {
   "display_name": "Python 3",
   "language": "python",
   "name": "python3"
  },
  "language_info": {
   "codemirror_mode": {
    "name": "ipython",
    "version": 3
   },
   "file_extension": ".py",
   "mimetype": "text/x-python",
   "name": "python",
   "nbconvert_exporter": "python",
   "pygments_lexer": "ipython3",
   "version": "3.7.5"
  }
 },
 "nbformat": 4,
 "nbformat_minor": 2
}
