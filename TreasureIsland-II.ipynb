{
 "cells": [
  {
   "cell_type": "code",
   "execution_count": 8,
   "metadata": {},
   "outputs": [
    {
     "name": "stdout",
     "output_type": "stream",
     "text": [
      "method 1: 3\n"
     ]
    }
   ],
   "source": [
    "\"\"\"\n",
    "You have a map that marks the locations of treasure islands. Some of the map area has jagged rocks and dangerous reefs. \n",
    "Other areas are safe to sail in. There are other explorers trying to find the treasure. So you must figure out a shortest \n",
    "route to one of the treasure islands.\n",
    "\n",
    "Assume the map area is a two dimensional grid, represented by a matrix of characters. You must start from one of the \n",
    "starting point (marked as S) of the map and can move one block up, down, left or right at a time. The treasure island \n",
    "is marked as X. Any block with dangerous rocks or reefs will be marked as D. You must not enter dangerous blocks. You \n",
    "cannot leave the map area. Other areas O are safe to sail in. Output the minimum number of steps to get to any of the \n",
    "treasure islands.\n",
    "\n",
    "Input:\n",
    "[['S', 'O', 'O', 'S', 'S'],\n",
    " ['D', 'O', 'D', 'O', 'D'],\n",
    " ['O', 'O', 'O', 'O', 'X'],\n",
    " ['X', 'D', 'D', 'O', 'O'],\n",
    " ['X', 'D', 'D', 'D', 'O']]\n",
    "\n",
    "Output: 3\n",
    "Explanation:\n",
    "You can start from (0,0), (0, 3) or (0, 4). The treasure locations are (2, 4) (3, 0) and (4, 0). \n",
    "Here the shortest route is (0, 3), (1, 3), (2, 3), (2, 4).\n",
    "\"\"\"\n",
    "import collections\n",
    "\n",
    "matrix = [['S', 'O', 'O', 'S', 'S'],\n",
    "          ['D', 'O', 'D', 'O', 'D'],\n",
    "          ['O', 'O', 'O', 'O', 'X'],\n",
    "          ['X', 'D', 'D', 'O', 'O'],\n",
    "          ['X', 'D', 'D', 'D', 'O']]\n",
    "\"\"\"\n",
    "solution 1\n",
    "\"\"\"\n",
    "def bfs(matrix):\n",
    "    q = collections.deque()\n",
    "\n",
    "    for i in range(len(matrix)):\n",
    "        for j in range(len(matrix[0])):\n",
    "            if matrix[i][j]==\"S\":\n",
    "                q.append((i, j))\n",
    "            \n",
    "    steps = 0\n",
    "    dirs = [(0,1), (1,0), (-1,0), (0,-1)]\n",
    "    while q:\n",
    "        for i in range(len(q)):\n",
    "            a, b = q.popleft()\n",
    "            for d in dirs:\n",
    "                x,y = a+d[0], b+d[1]\n",
    "                if x>=0 and y>=0 and x<len(matrix) and y<len(matrix[0]) and matrix[x][y]!=\"D\":\n",
    "                    if matrix[x][y]==\"X\":\n",
    "                        return steps+1\n",
    "                    \n",
    "                    matrix[x][y]=\"D\"\n",
    "                    q.append((x, y))\n",
    "        steps+=1\n",
    "        \n",
    "    \n",
    "print (\"method 1:\", bfs(matrix))\n"
   ]
  },
  {
   "cell_type": "code",
   "execution_count": null,
   "metadata": {},
   "outputs": [],
   "source": []
  }
 ],
 "metadata": {
  "kernelspec": {
   "display_name": "Python 3",
   "language": "python",
   "name": "python3"
  },
  "language_info": {
   "codemirror_mode": {
    "name": "ipython",
    "version": 3
   },
   "file_extension": ".py",
   "mimetype": "text/x-python",
   "name": "python",
   "nbconvert_exporter": "python",
   "pygments_lexer": "ipython3",
   "version": "3.7.5"
  }
 },
 "nbformat": 4,
 "nbformat_minor": 2
}
