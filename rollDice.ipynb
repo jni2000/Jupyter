{
 "cells": [
  {
   "cell_type": "code",
   "execution_count": 4,
   "metadata": {},
   "outputs": [
    {
     "name": "stdout",
     "output_type": "stream",
     "text": [
      "A: 2\n",
      "B: 2\n",
      "C: 3\n"
     ]
    }
   ],
   "source": [
    "\"\"\"\n",
    "A six-sided dice is a small cube with a different number of pips. Each face(side) ranging from 1 to 6.\n",
    "On any two opposite side of the cube, the number of pips adds up to 7; that is, there are three pairs of opposite sides: 1 and 6, 2 and 5, and 3 and 4.\n",
    "There are N dice lying on a table, each showing the pips on its top face. In one move, you can take one dice and rotate it to an adjacent face.\n",
    "For example, you can rotate a dice that shows 1 to show 2, 3, 4 or 5. However, it cannot show 6 in a single move, because the faces with one pip and six pips visible are opposite sides rather than adjacent.\n",
    "You want to show the same number of pips on the top face of all N dice. Given that each of the dice can be moved multiple times, count the minimum number of moves needed to get equal faces.\n",
    "\n",
    "Write a function:\n",
    "that, given an array A consisting of N integers describing the number of pips (from 1 to 6) shown on each dice’s top face, returns the minimum number of moves necessary for each dice show the same number of pips.\n",
    "\n",
    "For example, given:\n",
    "• A = [1, 2, 3], the function should return 2, as you can pick the first two dice and rotate each of them in one move so that they all show three pips on the top face. Notice that you can also pick any other pair of dice in this case.\n",
    "• A = [1, 1, 6], the function should also return 2. The only optimal answer is to rotate the last dice so that it shows one pip. It is necessary to use two rotations to achieve this.\n",
    "• A = [1, 6, 2, 3], the function should return 3. For instance, you can make all dice show 2: just rotate each dice which is not showing 2 (and notice that for each dice you can do this in one move).\n",
    "\n",
    "Assume that:\n",
    "• N is an integer within the range [1…100];\n",
    "• each element of the array A is an integer within the range [1…6].\n",
    "\"\"\"\n",
    "\n",
    "import math\n",
    "\n",
    "def rollDice(A):\n",
    "    count = [0] * 7\n",
    "    for i in A:\n",
    "        count[i] += 1\n",
    "    min_r = math.inf\n",
    "    for i in range(1,7):\n",
    "        rotate = sum(count) - count[i] + count[7-i]\n",
    "        if rotate < min_r:\n",
    "            min_r = rotate\n",
    "    return min_r\n",
    "\n",
    "A = [1,2,3]\n",
    "B = [1, 1, 6]\n",
    "C = [1, 6, 2, 3]\n",
    "\n",
    "print(\"A:\", rollDice(A))\n",
    "print(\"B:\", rollDice(B))\n",
    "print(\"C:\", rollDice(C))\n",
    "\n"
   ]
  },
  {
   "cell_type": "code",
   "execution_count": null,
   "metadata": {},
   "outputs": [],
   "source": []
  }
 ],
 "metadata": {
  "kernelspec": {
   "display_name": "Python 3",
   "language": "python",
   "name": "python3"
  },
  "language_info": {
   "codemirror_mode": {
    "name": "ipython",
    "version": 3
   },
   "file_extension": ".py",
   "mimetype": "text/x-python",
   "name": "python",
   "nbconvert_exporter": "python",
   "pygments_lexer": "ipython3",
   "version": "3.7.5"
  }
 },
 "nbformat": 4,
 "nbformat_minor": 2
}
