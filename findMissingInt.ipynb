{
 "cells": [
  {
   "cell_type": "code",
   "execution_count": 3,
   "metadata": {},
   "outputs": [
    {
     "name": "stdout",
     "output_type": "stream",
     "text": [
      "Missing number is  3 via sum method\n",
      "Missing number is  3 via XOR method\n"
     ]
    }
   ],
   "source": [
    "\"\"\"\n",
    "given a list of n-1 integers and these integers are in the range of 1 to n. \n",
    "There are no duplicates in the list. One of the integers \n",
    "is missing in the list. Write an efficient code to find the missing integer.\n",
    "\n",
    "Input: arr[] = [1, 2, 4,, 6, 3, 7, 8]\n",
    "Output: 5\n",
    "\"\"\"\n",
    "def getMissingInt(A): \n",
    "    n = len(A) \n",
    "    total = (n + 1)*(n + 2)/2\n",
    "    sum_of_A = sum(A) \n",
    "    return (int)(total - sum_of_A) \n",
    "\n",
    "# Python3 program to find \n",
    "# the mising Number \n",
    "# getMissingNo takes list as argument  \n",
    "  \n",
    "def getMissingInt2(a, n): \n",
    "    x1 = a[0] \n",
    "    x2 = 1\n",
    "      \n",
    "    for i in range(1, n): \n",
    "        x1 = x1 ^ a[i] \n",
    "          \n",
    "    for i in range(2, n + 2): \n",
    "        x2 = x2 ^ i \n",
    "      \n",
    "    return x1 ^ x2 \n",
    "  \n",
    "# Driver program to test above function \n",
    "A = [1, 2, 4, 5, 6] \n",
    "miss = getMissingInt(A) \n",
    "print(\"Missing number is \", miss, \"via sum method\") \n",
    "\n",
    "print(\"Missing number is \",getMissingInt2(A, len(A)), \"via XOR method\")\n"
   ]
  },
  {
   "cell_type": "code",
   "execution_count": null,
   "metadata": {},
   "outputs": [],
   "source": []
  }
 ],
 "metadata": {
  "kernelspec": {
   "display_name": "Python 3",
   "language": "python",
   "name": "python3"
  },
  "language_info": {
   "codemirror_mode": {
    "name": "ipython",
    "version": 3
   },
   "file_extension": ".py",
   "mimetype": "text/x-python",
   "name": "python",
   "nbconvert_exporter": "python",
   "pygments_lexer": "ipython3",
   "version": "3.7.5"
  }
 },
 "nbformat": 4,
 "nbformat_minor": 2
}
