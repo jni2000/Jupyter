{
 "cells": [
  {
   "cell_type": "code",
   "execution_count": 1,
   "metadata": {},
   "outputs": [
    {
     "name": "stdout",
     "output_type": "stream",
     "text": [
      "[[1, 3, 0], [2, 1, 1], [6, 0, 2]]\n"
     ]
    }
   ],
   "source": [
    "class Node:\n",
    "    def __init__(self, value, neighbors, visited):\n",
    "        self.value = value \n",
    "        self.neighbors=neighbors\n",
    "        self.visited = False\n",
    "        self.level=0\n",
    "        \n",
    "n7 = Node(7, [], False)\n",
    "n6 = Node(6, [], False)\n",
    "n5 = Node(5,[n6, n7], False)\n",
    "n4 = Node(4, [n5], False)\n",
    "n3 = Node(3, [n5], False)\n",
    "n2 = Node(2, [n6], False)\n",
    "n1 = Node(1, [n2, n3, n4], False)\n",
    "\n",
    "def endNode(node,end):\n",
    "    if node.value == end.value:\n",
    "        return True\n",
    "    return False\n",
    "\n",
    "def findPath(node, end):\n",
    "    path=[]\n",
    "    queue=[]\n",
    "    \n",
    "    node.visited = True\n",
    "    queue.append(node)    \n",
    "    while(len(queue) != 0):\n",
    "        n = queue.pop(0)\n",
    "        level = n.level\n",
    "        path.append([n.value, len(n.neighbors), n.level])\n",
    "\n",
    "        \"\"\"if traves all nodes,, remove the following check \"\"\"\n",
    "        if end in n.neighbors:\n",
    "            path.append([end.value, len(end.neighbors), level+1])\n",
    "            break\n",
    "            \n",
    "        for r in n.neighbors:\n",
    "            if not r.visited:\n",
    "                r.visited = True\n",
    "                r.level = n.level+1\n",
    "                queue.append(r)\n",
    "    return path\n",
    "\n",
    "if __name__==\"__main__\":\n",
    "    print(findPath(n1, n6))\n"
   ]
  },
  {
   "cell_type": "code",
   "execution_count": null,
   "metadata": {},
   "outputs": [],
   "source": []
  },
  {
   "cell_type": "code",
   "execution_count": null,
   "metadata": {},
   "outputs": [],
   "source": []
  }
 ],
 "metadata": {
  "kernelspec": {
   "display_name": "Python 3",
   "language": "python",
   "name": "python3"
  },
  "language_info": {
   "codemirror_mode": {
    "name": "ipython",
    "version": 3
   },
   "file_extension": ".py",
   "mimetype": "text/x-python",
   "name": "python",
   "nbconvert_exporter": "python",
   "pygments_lexer": "ipython3",
   "version": "3.7.5"
  }
 },
 "nbformat": 4,
 "nbformat_minor": 2
}
