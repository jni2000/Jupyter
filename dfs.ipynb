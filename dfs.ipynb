{
 "cells": [
  {
   "cell_type": "code",
   "execution_count": 2,
   "metadata": {},
   "outputs": [
    {
     "name": "stdout",
     "output_type": "stream",
     "text": [
      "[[1, 3, 5, 6], [1, 4, 5, 6]]\n"
     ]
    }
   ],
   "source": [
    "class Node:\n",
    "    def __init__(self, value, neighbors, visited):\n",
    "        self.value = value \n",
    "        self.neighbors=neighbors\n",
    "        self.visited = 0\n",
    "        \n",
    "n7 = Node(7, [], 0)\n",
    "n6 = Node(6, [], 0)\n",
    "n5 = Node(5,[n6, n7], 0)\n",
    "n4 = Node(4, [n5], 0)\n",
    "n3 = Node(3, [n5], 0)\n",
    "n2 = Node(2, [], 0)\n",
    "n1 = Node(1, [n2, n3, n4], 0)\n",
    "\n",
    "def endNode(node, end):\n",
    "    if node.value == end.value:\n",
    "        return True\n",
    "    return False\n",
    "\n",
    "def findPath(node, end, path, stack):\n",
    "    if node.visited < len(node.neighbors) or endNode(node, end):\n",
    "        node.visited += 1\n",
    "        path.append(node.value)\n",
    "        stack.append(node)\n",
    "        if endNode(node, end):\n",
    "            paths.append(path.copy())\n",
    "            done = False\n",
    "            while not done:\n",
    "                if len(stack) == 0:\n",
    "                    done = True\n",
    "                else:\n",
    "                    n = stack.pop()\n",
    "                    if len(n.neighbors) > n.visited and end not in n.neighbors and not endNode(n, end):\n",
    "                        stack.append(n)\n",
    "                        n.visited +=1\n",
    "                        done = True\n",
    "                    else:\n",
    "                        n.visited = False\n",
    "                        path.pop()\n",
    "    for n in node.neighbors:\n",
    "        findPath(n, end, path, stack)    \n",
    "\n",
    "if __name__==\"__main__\":\n",
    "    paths=[]\n",
    "    path=[]\n",
    "    stack=[]\n",
    "    findPath(n1, n6, path, stack)\n",
    "    print(paths)\n",
    "    "
   ]
  },
  {
   "cell_type": "code",
   "execution_count": null,
   "metadata": {},
   "outputs": [],
   "source": []
  },
  {
   "cell_type": "code",
   "execution_count": null,
   "metadata": {},
   "outputs": [],
   "source": []
  }
 ],
 "metadata": {
  "kernelspec": {
   "display_name": "Python 3",
   "language": "python",
   "name": "python3"
  },
  "language_info": {
   "codemirror_mode": {
    "name": "ipython",
    "version": 3
   },
   "file_extension": ".py",
   "mimetype": "text/x-python",
   "name": "python",
   "nbconvert_exporter": "python",
   "pygments_lexer": "ipython3",
   "version": "3.7.5"
  }
 },
 "nbformat": 4,
 "nbformat_minor": 2
}
