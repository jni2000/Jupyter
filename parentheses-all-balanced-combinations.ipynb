{
 "cells": [
  {
   "cell_type": "code",
   "execution_count": 1,
   "metadata": {},
   "outputs": [
    {
     "name": "stdout",
     "output_type": "stream",
     "text": [
      "()()()()\n",
      "()()(())\n",
      "()(())()\n",
      "()(()())\n",
      "()((()))\n",
      "(())()()\n",
      "(())(())\n",
      "(()())()\n",
      "(()()())\n",
      "(()(()))\n",
      "((()))()\n",
      "((())())\n",
      "((()()))\n",
      "(((())))\n"
     ]
    }
   ],
   "source": [
    "# Python3 program to \n",
    "# Print all combinations \n",
    "# of balanced parentheses \n",
    "  \n",
    "# Wrapper over _printParenthesis() \n",
    "def printParenthesis(str, n, op, cp): \n",
    "    if(n > 0): \n",
    "        _printParenthesis(str, 0,  \n",
    "                          n, 0, 0,op,cp); \n",
    "    return; \n",
    "  \n",
    "def _printParenthesis(str, pos, n,  \n",
    "                      open, close, op, cp): \n",
    "      \n",
    "    if(close == n): \n",
    "        for i in str: \n",
    "            print(i, end = \"\"); \n",
    "        print(); \n",
    "        return; \n",
    "    else: \n",
    "        if(open > close): \n",
    "            str[pos] = cp; \n",
    "            _printParenthesis(str, pos + 1, n,  \n",
    "                              open, close + 1, op, cp); \n",
    "        if(open < n): \n",
    "            str[pos] = op; \n",
    "            _printParenthesis(str, pos + 1, n,  \n",
    "                              open + 1, close, op, cp); \n",
    "  \n",
    "# Driver Code\n",
    "open_parentheses='('\n",
    "close_parentheses=')'\n",
    "\n",
    "n = 4; \n",
    "str = [\"\"] * 2 * n; \n",
    "printParenthesis(str, n, open_parentheses, close_parentheses); \n",
    "  \n"
   ]
  },
  {
   "cell_type": "code",
   "execution_count": null,
   "metadata": {},
   "outputs": [],
   "source": []
  }
 ],
 "metadata": {
  "kernelspec": {
   "display_name": "Python 3",
   "language": "python",
   "name": "python3"
  },
  "language_info": {
   "codemirror_mode": {
    "name": "ipython",
    "version": 3
   },
   "file_extension": ".py",
   "mimetype": "text/x-python",
   "name": "python",
   "nbconvert_exporter": "python",
   "pygments_lexer": "ipython3",
   "version": "3.7.5"
  }
 },
 "nbformat": 4,
 "nbformat_minor": 2
}
