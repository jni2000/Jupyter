{
 "cells": [
  {
   "cell_type": "code",
   "execution_count": 11,
   "metadata": {},
   "outputs": [
    {
     "name": "stdout",
     "output_type": "stream",
     "text": [
      "7\n"
     ]
    }
   ],
   "source": [
    "\"\"\"\n",
    "count the number of ways to run up a starirs of n steps with ways can run upto m steps at once\n",
    "\n",
    "Note: n-step stairs really has n+1 steps including ground 0\n",
    "\n",
    "\"\"\"\n",
    "def countWays(n, m):\n",
    "    if n <= 1:\n",
    "        return n\n",
    "    else:\n",
    "        ways = 0\n",
    "        i = 1\n",
    "        while i<=m and i<=n:\n",
    "            ways += countWays(n-i, m)\n",
    "            i+=1\n",
    "    return ways\n",
    "\n",
    "staris = 4\n",
    "naxStepsPerMove = 3\n",
    "\n",
    "if __name__==\"__main__\":\n",
    "    print(countWays(staris+1,naxStepsPerMove))\n",
    "    "
   ]
  },
  {
   "cell_type": "code",
   "execution_count": null,
   "metadata": {},
   "outputs": [],
   "source": []
  }
 ],
 "metadata": {
  "kernelspec": {
   "display_name": "Python 3",
   "language": "python",
   "name": "python3"
  },
  "language_info": {
   "codemirror_mode": {
    "name": "ipython",
    "version": 3
   },
   "file_extension": ".py",
   "mimetype": "text/x-python",
   "name": "python",
   "nbconvert_exporter": "python",
   "pygments_lexer": "ipython3",
   "version": "3.7.5"
  }
 },
 "nbformat": 4,
 "nbformat_minor": 2
}
