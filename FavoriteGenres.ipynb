{
 "cells": [
  {
   "cell_type": "code",
   "execution_count": 2,
   "metadata": {},
   "outputs": [
    {
     "data": {
      "text/plain": [
       "{'David': ['Rock', 'Techno'], 'Emma': ['Pop']}"
      ]
     },
     "execution_count": 2,
     "metadata": {},
     "output_type": "execute_result"
    }
   ],
   "source": [
    "\"\"\"\n",
    "Given a map Map<String, List<String>> userMap, where the key is a username and the value is \n",
    "a list of user's songs. Also given a map Map<String, List<String>> genreMap, where the key \n",
    "is a genre and the value is a list of songs belonging to this genre. The task is to return \n",
    "a map Map<String, List<String>>, where the key is a username and the value is a list of the \n",
    "user's favorite genres. Favorite genre is a genre with the most song.\n",
    "\"\"\"\n",
    "import collections\n",
    "\n",
    "def favGenres(userSongs, songGenres):\n",
    "    output={}\n",
    "    for user in userSongs:\n",
    "        list=userSongs[user]\n",
    "        count=collections.defaultdict(int)\n",
    "        for song in list:\n",
    "            for k,v in songGenres.items():\n",
    "                if song in v:\n",
    "                    count[k]+=1\n",
    "\n",
    "        print(count)\n",
    "        output[user]=[key for key,val in count.items() if val ==max(count.values())]\n",
    "                \n",
    "    \n",
    "    return output\n",
    "\n",
    "def favGenres2(userSongs, songGenres):\n",
    "    res = {}\n",
    "    d = {s: g for g in songGenres for s in songGenres[g]}\n",
    "    for name, songs in userSongs.items():\n",
    "        c = collections.Counter(d[s] for s in songs if s in d)\n",
    "        mxcnt = max(c.values() or [0])\n",
    "        res[name] = [g for g in c if c[g] == mxcnt]\n",
    "    return res\n",
    "\n",
    "userSongs = {  \n",
    "   \"David\": [\"song1\", \"song2\", \"song3\", \"song4\", \"song8\"],\n",
    "   \"Emma\":  [\"song5\", \"song6\", \"song7\"]\n",
    "}\n",
    "\n",
    "songGenres = {  \n",
    "   \"Rock\":    [\"song1\", \"song3\"],\n",
    "   \"Dubstep\": [\"song7\"],\n",
    "   \"Techno\":  [\"song2\", \"song4\"],\n",
    "   \"Pop\":     [\"song5\", \"song6\"],\n",
    "   \"Jazz\":    [\"song8\", \"song9\"]\n",
    "}\n",
    "\n",
    "favGenres2(userSongs, songGenres)\n",
    "\n",
    "userSongs = {  \n",
    "   \"David\": [\"song1\", \"song2\"],\n",
    "   \"Emma\":  [\"song3\", \"song4\"]\n",
    "}\n",
    "songGenres = {}\n",
    "\n",
    "favGenres2(userSongs, songGenres)\n"
   ]
  },
  {
   "cell_type": "code",
   "execution_count": null,
   "metadata": {},
   "outputs": [],
   "source": []
  },
  {
   "cell_type": "code",
   "execution_count": null,
   "metadata": {},
   "outputs": [],
   "source": []
  }
 ],
 "metadata": {
  "kernelspec": {
   "display_name": "Python 3",
   "language": "python",
   "name": "python3"
  },
  "language_info": {
   "codemirror_mode": {
    "name": "ipython",
    "version": 3
   },
   "file_extension": ".py",
   "mimetype": "text/x-python",
   "name": "python",
   "nbconvert_exporter": "python",
   "pygments_lexer": "ipython3",
   "version": "3.7.5"
  }
 },
 "nbformat": 4,
 "nbformat_minor": 2
}
