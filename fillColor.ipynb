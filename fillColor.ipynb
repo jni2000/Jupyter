{
 "cells": [
  {
   "cell_type": "code",
   "execution_count": 9,
   "metadata": {},
   "outputs": [
    {
     "name": "stdout",
     "output_type": "stream",
     "text": [
      "Before: [[1, 1, 1, 1, 1, 1], [1, 1, 0, 0, 1, 0], [1, 0, 1, 0, 1, 1], [1, 0, 0, 0, 0, 1]]\n",
      "After : [[1, 1, 1, 1, 1, 1], [1, 1, 3, 3, 1, 0], [1, 3, 1, 3, 1, 1], [1, 3, 3, 3, 3, 1]]\n"
     ]
    }
   ],
   "source": [
    "def colorMatch(screen, pos1, pos2):\n",
    "    match = False\n",
    "    if (pos1[0] in range(len(screen)) and pos1[1] in range(len(screen[0])) and pos2[0] in range(len(screen)) and pos2[1] in range(len(screen[0]))):\n",
    "        if (screen[pos1[0]][pos1[1]] == screen[pos2[0]][pos2[1]]):\n",
    "            match = True\n",
    "    return match\n",
    "\n",
    "def isVisited(visited, pos):\n",
    "    v = True\n",
    "    if pos[0] in range(len(visited)) and pos[1] in range(len(visited[0])):\n",
    "        v = visited[pos[0]][pos[1]]\n",
    "    return v\n",
    "    \n",
    "def neighbors(screen, visited, pos):\n",
    "    neighbors=[]\n",
    "    \n",
    "    left = [pos[0],pos[1]-1]\n",
    "    up = down = [pos[0]-1,pos[1]]\n",
    "    right = [pos[0],pos[1]+1]\n",
    "    down = [pos[0]+1,pos[1]]\n",
    "\n",
    "    if pos[0] > 0:\n",
    "        if colorMatch(screen, pos, up):\n",
    "            if not isVisited(visited, up):\n",
    "                neighbors.append(up)\n",
    "    if pos[0] < len(screen)-1:\n",
    "        if colorMatch(screen, pos, down):\n",
    "            if not isVisited(visited, down):\n",
    "                neighbors.append(down)\n",
    "    if pos[1] > 0:\n",
    "        if colorMatch(screen, pos, left):\n",
    "            if not isVisited(visited, left):\n",
    "                neighbors.append(left)\n",
    "    if pos[1] < len(screen[0])-1:\n",
    "        if colorMatch(screen, pos, right):\n",
    "            if not isVisited(visited, right):\n",
    "                neighbors.append(right)\n",
    "    return neighbors\n",
    "    \n",
    "def fillPaint(screen, pos, color):\n",
    "    stack = []\n",
    "    visited = [[False for j in range(len(screen[0]))] for i in range(len(screen))]\n",
    "    stack.append(pos)\n",
    "    while len(stack) > 0:\n",
    "        p = stack.pop()\n",
    "        visited[p[0]][p[1]] = True\n",
    "        n = neighbors(screen, visited, p)\n",
    "        if len(n) > 0:\n",
    "            stack += n\n",
    "        screen[p[0]][p[1]] = color\n",
    "\n",
    "Screen = [\n",
    "    [1,1,1,1,1,1],\n",
    "    [1,1,0,0,1,0],\n",
    "    [1,0,1,0,1,1],\n",
    "    [1,0,0,0,0,1]\n",
    "]\n",
    "newColor=3\n",
    "position = [1,2]\n",
    "\n",
    "print(\"Before:\", Screen)\n",
    "fillPaint(Screen, position, newColor)\n",
    "print(\"After :\", Screen)\n"
   ]
  },
  {
   "cell_type": "code",
   "execution_count": null,
   "metadata": {},
   "outputs": [],
   "source": []
  }
 ],
 "metadata": {
  "kernelspec": {
   "display_name": "Python 3",
   "language": "python",
   "name": "python3"
  },
  "language_info": {
   "codemirror_mode": {
    "name": "ipython",
    "version": 3
   },
   "file_extension": ".py",
   "mimetype": "text/x-python",
   "name": "python",
   "nbconvert_exporter": "python",
   "pygments_lexer": "ipython3",
   "version": "3.7.5"
  }
 },
 "nbformat": 4,
 "nbformat_minor": 2
}
