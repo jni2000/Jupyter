{
 "cells": [
  {
   "cell_type": "code",
   "execution_count": 1,
   "metadata": {},
   "outputs": [
    {
     "name": "stdout",
     "output_type": "stream",
     "text": [
      "(90, 125)\n",
      "[90, 125]\n"
     ]
    }
   ],
   "source": [
    "\"\"\"\n",
    "You are on a flight and wanna watch two movies during this flight.\n",
    "You are given int[] movie_duration which includes all the movie durations.\n",
    "You are also given the duration of the flight which is d in minutes.\n",
    "Now, you need to pick two movies and the total duration of the two movies is less than or equal to (d - 30min).\n",
    "Find the pair of movies with the longest total duration. If multiple found, return the pair with the longest movie.\n",
    "\n",
    "\n",
    "\"\"\"\n",
    "movie_duration = [90, 85, 75, 60, 120, 150, 125]\n",
    "flight_duration = 250\n",
    "\n",
    "def findMovies(md, fd):\n",
    "    playlist=[]\n",
    "    for i in range(len(md)):\n",
    "        for j in range(i+1,len(md)):\n",
    "            if movie_duration[i]+movie_duration[j] <= fd-30:\n",
    "                playlist.append([i,j, movie_duration[i]+movie_duration[j]])\n",
    "    playlist=sorted(playlist, key=lambda playlist_entry: playlist_entry[2], reverse=True)\n",
    "    shortlist=[]\n",
    "    i=0\n",
    "    duration=playlist[0][2]\n",
    "    while playlist[i][2]>=duration:\n",
    "        shortlist.append(md[playlist[i][0]])\n",
    "        shortlist.append(md[playlist[i][1]])\n",
    "        i+=1\n",
    "    return shortlist\n",
    "\n",
    "def flightDetails(arr, k):\n",
    "    k-=30\n",
    "    arr = sorted(arr)\n",
    "    left = 0\n",
    "    right = len(arr)-1\n",
    "    max_val = 0\n",
    "    while left<right:\n",
    "        if arr[left]+arr[right]<=k:\n",
    "            if max_val < arr[left]+arr[right]:\n",
    "                max_val = arr[left]+arr[right]\n",
    "                i = left\n",
    "                j = right\n",
    "            left+=1\n",
    "        else:\n",
    "            right-=1\n",
    "    return(arr[i],arr[j])\n",
    "\n",
    "arr = [90, 85, 75, 60, 120, 150, 125]\n",
    "k = 250\n",
    "print(flightDetails(arr,k))\n",
    "\n",
    "if __name__ ==\"__main__\":\n",
    "    print(findMovies(movie_duration, flight_duration))\n",
    "    \n",
    "\n",
    "\n"
   ]
  },
  {
   "cell_type": "code",
   "execution_count": null,
   "metadata": {},
   "outputs": [],
   "source": []
  }
 ],
 "metadata": {
  "kernelspec": {
   "display_name": "Python 3",
   "language": "python",
   "name": "python3"
  },
  "language_info": {
   "codemirror_mode": {
    "name": "ipython",
    "version": 3
   },
   "file_extension": ".py",
   "mimetype": "text/x-python",
   "name": "python",
   "nbconvert_exporter": "python",
   "pygments_lexer": "ipython3",
   "version": "3.7.5"
  }
 },
 "nbformat": 4,
 "nbformat_minor": 2
}
