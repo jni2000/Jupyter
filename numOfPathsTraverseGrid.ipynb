{
 "cells": [
  {
   "cell_type": "code",
   "execution_count": 14,
   "metadata": {},
   "outputs": [
    {
     "name": "stdout",
     "output_type": "stream",
     "text": [
      "[[0, 1, 1], [1, 2, 3], [1, 3, 6], [1, 4, 10]]\n"
     ]
    }
   ],
   "source": [
    "\"\"\"\n",
    "calculate the number of paths traverse from top left corver to bottom righ corner of an NxM grid\n",
    "\"\"\"\n",
    "def countNumbers(n, m, num):\n",
    "    if n==0 and m==0:\n",
    "        num[n][m]=0\n",
    "    elif n==0 or m==0:\n",
    "        num[n][m]=1\n",
    "    else:\n",
    "        num[n][m]=num[n-1][m]+num[n][m-1]\n",
    "    \n",
    "def numOfPathsTraverseGrid(n, m):\n",
    "    numbers = [[0 for j in range(m)] for i in range(n)]\n",
    "    for i in range(n):\n",
    "        for j in range(m):\n",
    "            countNumbers(i,j,numbers)\n",
    "    print(numbers)\n",
    "    \n",
    "numOfPathsTraverseGrid(4,3)\n"
   ]
  },
  {
   "cell_type": "code",
   "execution_count": null,
   "metadata": {},
   "outputs": [],
   "source": []
  }
 ],
 "metadata": {
  "kernelspec": {
   "display_name": "Python 3",
   "language": "python",
   "name": "python3"
  },
  "language_info": {
   "codemirror_mode": {
    "name": "ipython",
    "version": 3
   },
   "file_extension": ".py",
   "mimetype": "text/x-python",
   "name": "python",
   "nbconvert_exporter": "python",
   "pygments_lexer": "ipython3",
   "version": "3.7.5"
  }
 },
 "nbformat": 4,
 "nbformat_minor": 2
}
