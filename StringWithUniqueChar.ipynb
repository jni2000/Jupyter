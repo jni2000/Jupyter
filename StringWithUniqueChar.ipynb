{
 "cells": [
  {
   "cell_type": "code",
   "execution_count": 7,
   "metadata": {},
   "outputs": [
    {
     "name": "stdout",
     "output_type": "stream",
     "text": [
      "{'a': 5, 'b': 1, 's': 5, 'k': 7, 'd': 6, 'y': 1, 'e': 2, 'j': 8, 'f': 5, 'p': 1, 'u': 1, 'w': 1, 'h': 2, 'l': 1}\n",
      "aaaaabddddddeefffffhhjjjjjjjjkkkkkkklpsssssuwy\n",
      "True\n",
      "aaa   bbb    cccc\n",
      "['xaaa', 'bbb', 'cccc']\n",
      "4\n",
      "   xAAA   bbb    cccc   \n"
     ]
    }
   ],
   "source": [
    "charhash = {}\n",
    "string = \"abskdyejfpfjeuwfjfkjhdsjkdkadsajhdsakljksdfjka\"\n",
    "for i in range(len(string)):\n",
    "    if string[i] not in charhash:\n",
    "        charhash[string[i]]=1\n",
    "    else:\n",
    "        charhash[string[i]]+=1\n",
    "print(charhash)\n",
    "\n",
    "string = ''.join(sorted(string, key=lambda string_entry: string_entry[0]))\n",
    "print(string)\n",
    "\n",
    "string=\"abcdfghjklo\"\n",
    "charhash = {}\n",
    "unique=True\n",
    "for i in range(len(string)):\n",
    "    if string[i] in charhash:\n",
    "        unique=False\n",
    "        break\n",
    "    else:\n",
    "        charhash[string[i]]=1\n",
    "print(unique)\n",
    "\n",
    "string=\"   aaa   bbb    cccc   \"\n",
    "print(string.strip())\n",
    "string=\"   xaaa   bbb    cccc   \"\n",
    "print(string.split())\n",
    "print(string.find(\"aaa\"))\n",
    "print(string.replace(\"aaa\", \"AAA\"))"
   ]
  },
  {
   "cell_type": "code",
   "execution_count": null,
   "metadata": {},
   "outputs": [],
   "source": []
  },
  {
   "cell_type": "code",
   "execution_count": null,
   "metadata": {},
   "outputs": [],
   "source": []
  },
  {
   "cell_type": "code",
   "execution_count": null,
   "metadata": {},
   "outputs": [],
   "source": []
  },
  {
   "cell_type": "code",
   "execution_count": null,
   "metadata": {},
   "outputs": [],
   "source": []
  },
  {
   "cell_type": "code",
   "execution_count": null,
   "metadata": {},
   "outputs": [],
   "source": []
  }
 ],
 "metadata": {
  "kernelspec": {
   "display_name": "Python 3",
   "language": "python",
   "name": "python3"
  },
  "language_info": {
   "codemirror_mode": {
    "name": "ipython",
    "version": 3
   },
   "file_extension": ".py",
   "mimetype": "text/x-python",
   "name": "python",
   "nbconvert_exporter": "python",
   "pygments_lexer": "ipython3",
   "version": "3.7.5"
  }
 },
 "nbformat": 4,
 "nbformat_minor": 2
}
