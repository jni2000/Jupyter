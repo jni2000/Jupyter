{
 "cells": [
  {
   "cell_type": "code",
   "execution_count": 3,
   "metadata": {},
   "outputs": [
    {
     "name": "stdout",
     "output_type": "stream",
     "text": [
      "False\n"
     ]
    }
   ],
   "source": [
    "\"\"\"\n",
    "check if a string is the rotation of another string using only on substring call\n",
    "\"\"\"\n",
    "\n",
    "string1 = \"waterbottle\"\n",
    "string2 = \"tlewaterbot\"\n",
    "string2 = \"tlewaterbo\"\n",
    "\n",
    "def isRotate(s1, s2):\n",
    "    result = False\n",
    "    if len(s1) == len(s2):\n",
    "        s3 = s1+s2\n",
    "        if s1 in s3:\n",
    "            result = True\n",
    "    return result\n",
    "\n",
    "if __name__==\"__main__\":\n",
    "    print(isRotate(string1, string2))\n",
    "    "
   ]
  },
  {
   "cell_type": "code",
   "execution_count": null,
   "metadata": {},
   "outputs": [],
   "source": []
  }
 ],
 "metadata": {
  "kernelspec": {
   "display_name": "Python 3",
   "language": "python",
   "name": "python3"
  },
  "language_info": {
   "codemirror_mode": {
    "name": "ipython",
    "version": 3
   },
   "file_extension": ".py",
   "mimetype": "text/x-python",
   "name": "python",
   "nbconvert_exporter": "python",
   "pygments_lexer": "ipython3",
   "version": "3.7.5"
  }
 },
 "nbformat": 4,
 "nbformat_minor": 2
}
