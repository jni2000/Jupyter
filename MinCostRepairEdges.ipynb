{
 "cells": [
  {
   "cell_type": "code",
   "execution_count": 2,
   "metadata": {},
   "outputs": [
    {
     "name": "stdout",
     "output_type": "stream",
     "text": [
      "20\n",
      "410\n",
      "79\n",
      "20\n",
      "410\n",
      "79\n"
     ]
    }
   ],
   "source": [
    "\"\"\"\n",
    "There's an undirected connected graph with n nodes labeled 1..n. But some of the edges has been broken \n",
    "disconnecting the graph. Find the minimum cost to repair the edges so that all the nodes are once again \n",
    "accessible from each other.\n",
    "\n",
    "Input:\n",
    "\n",
    "n, an int representing the total number of nodes.\n",
    "edges, a list of integer pair representing the nodes connected by an edge.\n",
    "edgesToRepair, a list where each element is a triplet representing the pair of nodes between which an \n",
    "edge is currently broken and the cost of repearing that edge, respectively (e.g. [1, 2, 12] means to \n",
    "repear an edge between nodes 1 and 2, the cost would be 12).\n",
    "\n",
    "\"\"\"\n",
    "from collections import defaultdict\n",
    "import heapq\n",
    "\n",
    "class Solution:\n",
    "    def __init__(self):\n",
    "        pass\n",
    "    \n",
    "    def minCostForRepair(self, n, edges, edgesToRepair):\n",
    "        graph=defaultdict(list)\n",
    "        addedEdges=set()\n",
    "        for edge in edgesToRepair:\n",
    "            graph[edge[0]].append((edge[2], edge[1]))\n",
    "            graph[edge[1]].append((edge[2], edge[0]))\n",
    "            addedEdges.add((edge[0], edge[1]))\n",
    "            addedEdges.add((edge[1], edge[0]))\n",
    "        for edge in edges:\n",
    "            if tuple(edge) not in addedEdges:\n",
    "                graph[edge[0]].append((0, edge[1]))\n",
    "                graph[edge[1]].append((0, edge[0]))\n",
    "\n",
    "        res=0\n",
    "        priorityQueue=[(0, 1)]\n",
    "        heapq.heapify(priorityQueue)\n",
    "        visited=set()\n",
    "\n",
    "        while priorityQueue:\n",
    "            minCost, node=heapq.heappop(priorityQueue)\n",
    "            if node not in visited:\n",
    "                visited.add(node)\n",
    "                res+=minCost\n",
    "                for cost, connectedNode in graph[node]:\n",
    "                    if connectedNode not in visited:\n",
    "                        heapq.heappush(priorityQueue, (cost, connectedNode))\n",
    "\n",
    "        return res\n",
    "\n",
    "\n",
    "s=Solution()\n",
    "\n",
    "print(s.minCostForRepair(5, [[1, 2], [2, 3], [3, 4], [4, 5], [1, 5]], [[1, 2, 12], [3, 4, 30], [1, 5, 8]]))\n",
    "print(s.minCostForRepair(6, [[1, 2], [2, 3], [4, 5], [3, 5], [1, 6], [2, 4]], [[1, 6, 410], [2, 4, 800]]))\n",
    "print(s.minCostForRepair(6, [[1, 2], [2, 3], [4, 5], [5, 6], [1, 5], [2, 4], [3, 4]], [[1, 5, 110], [2, 4, 84], [3, 4, 79]]))\n",
    "print(s.minCostForRepair(5, [[1, 2], [2, 3], [3, 4], [4, 5], [1, 5]], [[1, 2, 12], [3, 4, 30], [1, 5, 8]]))\n",
    "print(s.minCostForRepair(6, [[1, 2], [2, 3], [4, 5], [3, 5], [1, 6], [2, 4]], [[1, 6, 410], [2, 4, 800]]))\n",
    "print(s.minCostForRepair(6, [[1, 2], [2, 3], [4, 5], [5, 6], [1, 5], [2, 4], [3, 4]],[[1, 5, 110], [2, 4, 84], [3, 4, 79]]))\n"
   ]
  },
  {
   "cell_type": "code",
   "execution_count": null,
   "metadata": {},
   "outputs": [],
   "source": []
  }
 ],
 "metadata": {
  "kernelspec": {
   "display_name": "Python 3",
   "language": "python",
   "name": "python3"
  },
  "language_info": {
   "codemirror_mode": {
    "name": "ipython",
    "version": 3
   },
   "file_extension": ".py",
   "mimetype": "text/x-python",
   "name": "python",
   "nbconvert_exporter": "python",
   "pygments_lexer": "ipython3",
   "version": "3.7.5"
  }
 },
 "nbformat": 4,
 "nbformat_minor": 2
}
