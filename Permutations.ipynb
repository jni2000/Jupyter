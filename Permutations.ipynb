{
 "cells": [
  {
   "cell_type": "code",
   "execution_count": 17,
   "metadata": {},
   "outputs": [
    {
     "name": "stdout",
     "output_type": "stream",
     "text": [
      "['A', 'B', 'C', 'D']\n",
      "[('B', 'C', 'A', 'D'), ('C', 'B', 'A', 'D'), ('B', 'A', 'C', 'D'), ('A', 'B', 'C', 'D'), ('C', 'A', 'B', 'D'), ('A', 'C', 'B', 'D'), ('B', 'C', 'D', 'A'), ('C', 'B', 'D', 'A'), ('B', 'D', 'C', 'A'), ('D', 'B', 'C', 'A'), ('C', 'D', 'B', 'A'), ('D', 'C', 'B', 'A'), ('B', 'A', 'D', 'C'), ('A', 'B', 'D', 'C'), ('B', 'D', 'A', 'C'), ('D', 'B', 'A', 'C'), ('A', 'D', 'B', 'C'), ('D', 'A', 'B', 'C'), ('C', 'A', 'D', 'B'), ('A', 'C', 'D', 'B'), ('C', 'D', 'A', 'B'), ('D', 'C', 'A', 'B'), ('A', 'D', 'C', 'B'), ('D', 'A', 'C', 'B')]\n",
      "['BCAD', 'CBAD', 'BACD', 'ABCD', 'CABD', 'ACBD', 'BCDA', 'CBDA', 'BDCA', 'DBCA', 'CDBA', 'DCBA', 'BADC', 'ABDC', 'BDAC', 'DBAC', 'ADBC', 'DABC', 'CADB', 'ACDB', 'CDAB', 'DCAB', 'ADCB', 'DACB']\n"
     ]
    }
   ],
   "source": [
    "\"\"\"\n",
    "compute all permutations of a string with or without duplicate\n",
    "\"\"\"\n",
    "\n",
    "class unique_element:\n",
    "    def __init__(self,value,occurrences):\n",
    "        self.value = value\n",
    "        self.occurrences = occurrences\n",
    "\n",
    "def perm_unique(elements):\n",
    "    eset=set(elements)\n",
    "    listunique = [unique_element(i,elements.count(i)) for i in eset]\n",
    "    u=len(elements)\n",
    "    return perm_unique_helper(listunique,[0]*u,u-1)\n",
    "\n",
    "def perm_unique_helper(listunique,result_list,d):\n",
    "    if d < 0:\n",
    "        yield tuple(result_list)\n",
    "    else:\n",
    "        for i in listunique:\n",
    "            if i.occurrences > 0:\n",
    "                result_list[d]=i.value\n",
    "                i.occurrences-=1\n",
    "                for g in  perm_unique_helper(listunique,result_list,d-1):\n",
    "                    yield g\n",
    "                i.occurrences+=1\n",
    "\n",
    "\n",
    "string=\"ABCD\"\n",
    "string_array=list(string)\n",
    "\n",
    "print(string_array)\n",
    "\n",
    "a = list(perm_unique(string_array))\n",
    "print(a)\n",
    "perms = []\n",
    "for i in range(len(a)):\n",
    "    perm=\"\"\n",
    "    for j in range(len(a[i])):\n",
    "        perm+=a[i][j]\n",
    "    perms.append(perm)\n",
    "    \n",
    "print(perms)\n"
   ]
  },
  {
   "cell_type": "code",
   "execution_count": null,
   "metadata": {},
   "outputs": [],
   "source": []
  }
 ],
 "metadata": {
  "kernelspec": {
   "display_name": "Python 3",
   "language": "python",
   "name": "python3"
  },
  "language_info": {
   "codemirror_mode": {
    "name": "ipython",
    "version": 3
   },
   "file_extension": ".py",
   "mimetype": "text/x-python",
   "name": "python",
   "nbconvert_exporter": "python",
   "pygments_lexer": "ipython3",
   "version": "3.7.5"
  }
 },
 "nbformat": 4,
 "nbformat_minor": 2
}
