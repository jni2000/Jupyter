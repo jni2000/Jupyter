{
 "cells": [
  {
   "cell_type": "code",
   "execution_count": 27,
   "metadata": {},
   "outputs": [
    {
     "name": "stdout",
     "output_type": "stream",
     "text": [
      "[' Ann Cook', ' Iyad Xiaoren', ' Jack Woods', ' James Nelson', ' Jamie Sha', ' Jessica Shabi', ' John Anderson', ' John Smith', ' Kurt Fu']\n"
     ]
    }
   ],
   "source": [
    "csvFile = \"test.txt\"\n",
    "def processSortDuplicateRemove(csvFile):\n",
    "    try:\n",
    "        file = open(csvFile, 'r')\n",
    "        lines = file.readlines()\n",
    "        namelist = []\n",
    "        lines_parsed = []\n",
    "        name = None\n",
    "        for i in range(len(lines)):\n",
    "            lines_parsed.append(lines[i].split(','))\n",
    "        lines_parsed = sorted(lines_parsed, key=lambda lines_parsed_entry: lines_parsed_entry[1])\n",
    "        for i in range(len(lines)):            \n",
    "            if lines_parsed[i][1] != name:\n",
    "                namelist.append(lines_parsed[i][1])\n",
    "                name = lines_parsed[i][1]\n",
    "        return namelist\n",
    "    except:\n",
    "        print(\"file \" + csvFile + \" not found or error occurred!\")\n",
    "        return None\n",
    "\n",
    "if __name__ == \"__main__\":\n",
    "    print(processSortDuplicateRemove(csvFile))\n",
    "        "
   ]
  },
  {
   "cell_type": "code",
   "execution_count": null,
   "metadata": {},
   "outputs": [],
   "source": []
  },
  {
   "cell_type": "code",
   "execution_count": null,
   "metadata": {},
   "outputs": [],
   "source": []
  },
  {
   "cell_type": "code",
   "execution_count": null,
   "metadata": {},
   "outputs": [],
   "source": []
  }
 ],
 "metadata": {
  "kernelspec": {
   "display_name": "Python 3",
   "language": "python",
   "name": "python3"
  },
  "language_info": {
   "codemirror_mode": {
    "name": "ipython",
    "version": 3
   },
   "file_extension": ".py",
   "mimetype": "text/x-python",
   "name": "python",
   "nbconvert_exporter": "python",
   "pygments_lexer": "ipython3",
   "version": "3.7.5"
  }
 },
 "nbformat": 4,
 "nbformat_minor": 2
}
