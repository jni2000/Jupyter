{
 "cells": [
  {
   "cell_type": "code",
   "execution_count": 1,
   "metadata": {},
   "outputs": [
    {
     "name": "stdout",
     "output_type": "stream",
     "text": [
      "ea     o  e \n",
      "['ea', '', '', '', '', 'o', '', 'e', '']\n",
      "[{'length': 2, 'position': 0, 'content': 'ea'}, {'length': 1, 'position': 5, 'content': 'o'}, {'length': 1, 'position': 7, 'content': 'e'}, {'length': 0, 'position': 1, 'content': ''}, {'length': 0, 'position': 2, 'content': ''}, {'length': 0, 'position': 3, 'content': ''}, {'length': 0, 'position': 4, 'content': ''}, {'length': 0, 'position': 6, 'content': ''}, {'length': 0, 'position': 8, 'content': ''}]\n",
      "3\n"
     ]
    }
   ],
   "source": [
    "\"\"\"\n",
    "Longest String Made Up Of Only Vowels\n",
    "Given a string of lower charasters, remove at most two substrings of any length from the given string such that the remaining \n",
    "string contains vowels('a','e','i','o','u') only.\n",
    "Your aim is to maximise the length of the remaining string. Output the length of remaining string after removal of at most two \n",
    "substrings.\n",
    "NOTE: The answer may be 0, i.e. removing the entire string.\n",
    "\"\"\"\n",
    "input_string = \"bcdbcd\"\n",
    "input_string = \"letsgosomewhere\"\n",
    "input_string = \"earthproblem\"\n",
    "vowels = 'aeiou'\n",
    "\n",
    "def longestVowels(string, vowels):\n",
    "    if string is not None:\n",
    "        string = string.casefold()\n",
    "        string_array=[char for char in string]\n",
    "        vstring=\"\"\n",
    "        for i in range(len(string_array)):\n",
    "            if string_array[i] not in vowels:\n",
    "                string_array[i] = ' '\n",
    "            vstring+=string_array[i]\n",
    "        print(vstring)\n",
    "        vparts = vstring.split(' ')\n",
    "        print(vparts)\n",
    "        segments=[]\n",
    "        for i in range(len(vparts)):\n",
    "            segment={}\n",
    "            segment['length']=len(vparts[i])\n",
    "            segment['position']=i\n",
    "            segment['content']=vparts[i]\n",
    "            segments.append(segment)\n",
    "            segments=sorted(segments, key=lambda segments_entry: segments_entry['length'], reverse=True)\n",
    "        length=segments[0]['length']\n",
    "        final = \"\"\n",
    "        if segments[0]['position']==0 or segments[0]['position']==len(vparts)-1:\n",
    "            length+=segments[1]['length']\n",
    "        if vparts[len(vparts)-1] != '':\n",
    "            length+=len(vparts[len(vparts)-1])\n",
    "        print(segments)\n",
    "        return length\n",
    "    \n",
    "        \"\"\"\n",
    "        final = [each for each in string if each in vowels] \n",
    "        print(len(final)) \n",
    "        print(final)\n",
    "        \"\"\"\n",
    "        \n",
    "if __name__ == \"__main__\":\n",
    "    print(longestVowels(input_string, vowels))\n"
   ]
  },
  {
   "cell_type": "code",
   "execution_count": null,
   "metadata": {},
   "outputs": [],
   "source": []
  }
 ],
 "metadata": {
  "kernelspec": {
   "display_name": "Python 3",
   "language": "python",
   "name": "python3"
  },
  "language_info": {
   "codemirror_mode": {
    "name": "ipython",
    "version": 3
   },
   "file_extension": ".py",
   "mimetype": "text/x-python",
   "name": "python",
   "nbconvert_exporter": "python",
   "pygments_lexer": "ipython3",
   "version": "3.7.5"
  }
 },
 "nbformat": 4,
 "nbformat_minor": 2
}
