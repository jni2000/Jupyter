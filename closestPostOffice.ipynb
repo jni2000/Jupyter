{
 "cells": [
  {
   "cell_type": "code",
   "execution_count": 2,
   "metadata": {},
   "outputs": [
    {
     "name": "stdout",
     "output_type": "stream",
     "text": [
      "[[0, 3], [-1, 2], [4, 3]]\n"
     ]
    }
   ],
   "source": [
    "\"\"\"\n",
    "Find the k post offices located closest to you, given your location and a list of locations of all post offices available.\n",
    "Locations are given in 2D coordinates in [X, Y], where X and Y are integers.\n",
    "Euclidean distance is applied to find the distance between you and a post office.\n",
    "Assume your location is [m, n] and the location of a post office is [p, q], the Euclidean distance between the office \n",
    "and you is SquareRoot((m - p) * (m - p) + (n - q) * (n - q)).\n",
    "K is a positive integer much smaller than the given number of post offices. from aonecode.com\n",
    "\n",
    "e.g.\n",
    "Input\n",
    "you: [0, 0]\n",
    "post_offices: [[-16, 5], [-1, 2], [4, 3], [10, -2], [0, 3], [-5, -9]]\n",
    "k = 3\n",
    "\n",
    "Output from aonecode.com\n",
    "[[-1, 2], [0, 3], [4, 3]]\n",
    "\"\"\"\n",
    "import random\n",
    "\n",
    "class Solution(object):\n",
    "    def kClosest(self, points, K):\n",
    "        dist = lambda i: points[i][0]**2 + points[i][1]**2\n",
    "\n",
    "        def sort(i, j, K):\n",
    "            # Partially sorts A[i:j+1] so the first K elements are\n",
    "            # the smallest K elements.\n",
    "            if i >= j: return\n",
    "\n",
    "            # Put random element as A[i] - this is the pivot\n",
    "            k = random.randint(i, j)\n",
    "            points[i], points[k] = points[k], points[i]\n",
    "\n",
    "            mid = partition(i, j)\n",
    "            if K < mid - i + 1:\n",
    "                sort(i, mid - 1, K)\n",
    "            elif K > mid - i + 1:\n",
    "                sort(mid + 1, j, K - (mid - i + 1))\n",
    "\n",
    "        def partition(i, j):\n",
    "            # Partition by pivot A[i], returning an index mid\n",
    "            # such that A[i] <= A[mid] <= A[j] for i < mid < j.\n",
    "            oi = i\n",
    "            pivot = dist(i)\n",
    "            i += 1\n",
    "\n",
    "            while True:\n",
    "                while i < j and dist(i) < pivot:\n",
    "                    i += 1\n",
    "                while i <= j and dist(j) >= pivot:\n",
    "                    j -= 1\n",
    "                if i >= j: break\n",
    "                points[i], points[j] = points[j], points[i]\n",
    "\n",
    "            points[oi], points[j] = points[j], points[oi]\n",
    "            return j\n",
    "\n",
    "        sort(0, len(points) - 1, K)\n",
    "        return points[:K]\n",
    "\n",
    "postOffices = [[-16, 5], [-1, 2], [4, 3], [10, -2], [0, 3], [-5, -9]]\n",
    "k = 3\n",
    "\n",
    "s = Solution()\n",
    "print(s.kClosest(postOffices, k))\n"
   ]
  },
  {
   "cell_type": "code",
   "execution_count": null,
   "metadata": {},
   "outputs": [],
   "source": []
  }
 ],
 "metadata": {
  "kernelspec": {
   "display_name": "Python 3",
   "language": "python",
   "name": "python3"
  },
  "language_info": {
   "codemirror_mode": {
    "name": "ipython",
    "version": 3
   },
   "file_extension": ".py",
   "mimetype": "text/x-python",
   "name": "python",
   "nbconvert_exporter": "python",
   "pygments_lexer": "ipython3",
   "version": "3.7.5"
  }
 },
 "nbformat": 4,
 "nbformat_minor": 2
}
