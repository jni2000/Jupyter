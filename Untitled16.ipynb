{
 "cells": [
  {
   "cell_type": "code",
   "execution_count": 6,
   "metadata": {},
   "outputs": [
    {
     "name": "stdout",
     "output_type": "stream",
     "text": [
      "[0, 1, 1, 0, 1, 0, 0, 1]\n",
      "0\n",
      "1\n",
      "2\n",
      "3\n",
      "4\n",
      "5\n",
      "6\n",
      "7\n",
      "[1, 1, 1, 0, 0, 1, 1, 0]\n"
     ]
    }
   ],
   "source": [
    "\"\"\"\n",
    "neighbor activate compete: on each day, if both neighbor are active/inactive, then inactive, otherwise active\n",
    "\n",
    "return the state after n days\n",
    "\n",
    "\"\"\"\n",
    "cells = [0,1,1,0,1,0,0,1]\n",
    "\n",
    "def cellCompete(states, days):\n",
    "    # WRITE YOUR CODE HERE\n",
    "    init_states = states\n",
    "    edge_state=0\n",
    "    if days > 0:\n",
    "        for i in range(days):\n",
    "            new_states=[0 for i in range(len(states))]\n",
    "            for j in range(len(init_states)):\n",
    "                if j==0:\n",
    "                    if init_states[j+1] == edge_state:\n",
    "                        new_states[j]= 0\n",
    "                    else:\n",
    "                        new_states[j]= 1\n",
    "                elif j==len(states)-1:\n",
    "                    if init_states[j-1] == edge_state:\n",
    "                        new_states[j]= 0\n",
    "                    else:\n",
    "                        new_states[j]= 1\n",
    "                else:\n",
    "                    if states[j-1] == init_states[j+1]:\n",
    "                        new_states[j]=0\n",
    "                    else:\n",
    "                        new_states[j]=1\n",
    "            init_states = new_states\n",
    "    return init_states\n",
    "    pass\n",
    "\n",
    "if __name__==\"__main__\":\n",
    "    print(cells)\n",
    "    print(cellCompete(cells, 1))\n"
   ]
  },
  {
   "cell_type": "code",
   "execution_count": null,
   "metadata": {},
   "outputs": [],
   "source": []
  }
 ],
 "metadata": {
  "kernelspec": {
   "display_name": "Python 3",
   "language": "python",
   "name": "python3"
  },
  "language_info": {
   "codemirror_mode": {
    "name": "ipython",
    "version": 3
   },
   "file_extension": ".py",
   "mimetype": "text/x-python",
   "name": "python",
   "nbconvert_exporter": "python",
   "pygments_lexer": "ipython3",
   "version": "3.7.5"
  }
 },
 "nbformat": 4,
 "nbformat_minor": 2
}
