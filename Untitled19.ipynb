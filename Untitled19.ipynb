{
 "cells": [
  {
   "cell_type": "code",
   "execution_count": 7,
   "metadata": {},
   "outputs": [
    {
     "name": "stdout",
     "output_type": "stream",
     "text": [
      "12 11 5 {12: 4, 11: 2, 40: 1, 5: 2, 6: 1, 30: 1, 31: 1, 32: 1, 100: 1} \n",
      "\n",
      "{1: None, 5: None, 7: None, -1: None}\n",
      "(1, 5)\n",
      "(1, 5)\n",
      "(7, -1)\n"
     ]
    }
   ],
   "source": [
    "# find duplicate intergers in array\n",
    "def printDuplicates(arr): \n",
    "    dict = {} \n",
    "  \n",
    "    for ele in arr: \n",
    "        try: \n",
    "            dict[ele] += 1\n",
    "        except: \n",
    "            dict[ele] = 1\n",
    "              \n",
    "    for item in dict: \n",
    "          \n",
    "         # if frequency is more than 1 \n",
    "         # print the element \n",
    "        if(dict[item] > 1): \n",
    "            print(item, end=\" \") \n",
    "  \n",
    "    print(dict, \"\\n\") \n",
    "\n",
    "# Python 3 implementation  \n",
    "# of simple method to find \n",
    "# print pairs with given sum. \n",
    "  \n",
    "# Returns number of pairs  \n",
    "# in arr[0..n-1] with sum \n",
    "# equal to 'sum' \n",
    "def printPairs(arr, n, sum): \n",
    "  \n",
    "    # count = 0  \n",
    "    arrHash = dict.fromkeys(arr)\n",
    "    print(arrHash)\n",
    "    # Consider all possible  \n",
    "    # pairs and check their sums \n",
    "    for i in range(0, n ): \n",
    "        for j in range(i + 1, n ): \n",
    "            if (arr[i] + arr[j] == sum): \n",
    "                print(\"(\", arr[i],  \n",
    "                      \", \", arr[j],  \n",
    "                      \")\", sep = \"\") \n",
    "  \n",
    "  \n",
    "  \n",
    "\n",
    "# Driver Code \n",
    "if __name__ == \"__main__\": \n",
    "    # test find duplicate int in array\n",
    "    list = [12, 11, 40, 12,  \n",
    "            5, 6, 5, 12, 11, 30, 31, 32,100, 12] \n",
    "    printDuplicates(list)\n",
    "    \n",
    "    # Driver Code \n",
    "    arr = [1, 5, 7, -1, 5] \n",
    "    n = len(arr) \n",
    "    sum = 6\n",
    "    printPairs(arr, n, sum) \n"
   ]
  },
  {
   "cell_type": "code",
   "execution_count": null,
   "metadata": {},
   "outputs": [],
   "source": []
  }
 ],
 "metadata": {
  "kernelspec": {
   "display_name": "Python 3",
   "language": "python",
   "name": "python3"
  },
  "language_info": {
   "codemirror_mode": {
    "name": "ipython",
    "version": 3
   },
   "file_extension": ".py",
   "mimetype": "text/x-python",
   "name": "python",
   "nbconvert_exporter": "python",
   "pygments_lexer": "ipython3",
   "version": "3.7.5"
  }
 },
 "nbformat": 4,
 "nbformat_minor": 2
}
