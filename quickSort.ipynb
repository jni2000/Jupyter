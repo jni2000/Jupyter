{
 "cells": [
  {
   "cell_type": "code",
   "execution_count": 3,
   "metadata": {},
   "outputs": [
    {
     "name": "stdout",
     "output_type": "stream",
     "text": [
      "0 5 1\n",
      "2 5 2\n",
      "3 5 3\n",
      "4 5 4\n",
      "quickSort1 -- Sorted array is: [1, 5, 7, 8, 9, 10]\n",
      "quickSort2 -- Sorted array is: [0, 1, 2, 3, 4, 5, 6, 7, 8, 9, 10, 13]\n"
     ]
    }
   ],
   "source": [
    "# Python program for implementation of Quicksort Sort \n",
    "  \n",
    "# This function takes last element as pivot, places \n",
    "# the pivot element at its correct position in sorted \n",
    "# array, and places all smaller (smaller than pivot) \n",
    "# to left of pivot and all greater elements to right \n",
    "# of pivot \n",
    "def partition(arr,low,high): \n",
    "    i = ( low-1 )         # index of smaller element \n",
    "    pivot = arr[high]     # pivot \n",
    "  \n",
    "    for j in range(low , high): \n",
    "  \n",
    "        # If current element is smaller than or \n",
    "        # equal to pivot \n",
    "        if   arr[j] <= pivot: \n",
    "          \n",
    "            # increment index of smaller element \n",
    "            i = i+1 \n",
    "            arr[i],arr[j] = arr[j],arr[i] \n",
    "  \n",
    "    arr[i+1],arr[high] = arr[high],arr[i+1] \n",
    "    return ( i+1 ) \n",
    "\n",
    "def partition2(arr, left, right):\n",
    "    pivot = arr[left+(int)((right-left)/2)]\n",
    "    while left <= right:\n",
    "        while arr[left] < pivot:\n",
    "            left +=1\n",
    "        while arr[right] > pivot:\n",
    "            right -=1\n",
    "        if left <= right:\n",
    "            arr[left], arr[right] = arr[right], arr[left]\n",
    "            left +=1\n",
    "            right -=1\n",
    "    return left\n",
    "\n",
    "def quickSort2(arr, left, right):\n",
    "    index = partition2(arr, left, right)\n",
    "    if left < index-1:\n",
    "        quickSort2(arr, left, index-1)\n",
    "    if right > index:\n",
    "        quickSort2(arr, index, right)\n",
    "        \n",
    "# The main function that implements QuickSort \n",
    "# arr[] --> Array to be sorted, \n",
    "# low  --> Starting index, \n",
    "# high  --> Ending index \n",
    "  \n",
    "# Function to do Quick sort \n",
    "def quickSort(arr,low,high): \n",
    "    if low < high: \n",
    "  \n",
    "        # pi is partitioning index, arr[p] is now \n",
    "        # at right place \n",
    "        pi = partition(arr,low,high) \n",
    "        print(low, high, pi)\n",
    "        # Separately sort elements before \n",
    "        # partition and after partition \n",
    "        quickSort(arr, low, pi-1) \n",
    "        quickSort(arr, pi+1, high) \n",
    "  \n",
    "# Driver code to test above \n",
    "arr = [10, 7, 8, 9, 1, 5] \n",
    "n = len(arr)\n",
    "\n",
    "quickSort(arr,0,n-1) \n",
    "print (\"quickSort1 -- Sorted array is:\", arr) \n",
    "\n",
    "# Driver code to test above \n",
    "arr = [10, 7, 8, 9, 1, 5]\n",
    "arr = [5,2,9,1,7,4,6,3,0,10,8,13]\n",
    "n = len(arr)\n",
    "\n",
    "quickSort2(arr,0,n-1) \n",
    "print (\"quickSort2 -- Sorted array is:\", arr) \n"
   ]
  },
  {
   "cell_type": "code",
   "execution_count": null,
   "metadata": {},
   "outputs": [],
   "source": []
  },
  {
   "cell_type": "code",
   "execution_count": null,
   "metadata": {},
   "outputs": [],
   "source": []
  }
 ],
 "metadata": {
  "kernelspec": {
   "display_name": "Python 3",
   "language": "python",
   "name": "python3"
  },
  "language_info": {
   "codemirror_mode": {
    "name": "ipython",
    "version": 3
   },
   "file_extension": ".py",
   "mimetype": "text/x-python",
   "name": "python",
   "nbconvert_exporter": "python",
   "pygments_lexer": "ipython3",
   "version": "3.7.5"
  }
 },
 "nbformat": 4,
 "nbformat_minor": 2
}
